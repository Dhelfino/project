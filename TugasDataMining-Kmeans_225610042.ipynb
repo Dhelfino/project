{
  "nbformat": 4,
  "nbformat_minor": 0,
  "metadata": {
    "colab": {
      "provenance": [],
      "authorship_tag": "ABX9TyMC8lKib5HEMrD74F9E+6KL",
      "include_colab_link": true
    },
    "kernelspec": {
      "name": "python3",
      "display_name": "Python 3"
    },
    "language_info": {
      "name": "python"
    }
  },
  "cells": [
    {
      "cell_type": "markdown",
      "metadata": {
        "id": "view-in-github",
        "colab_type": "text"
      },
      "source": [
        "<a href=\"https://colab.research.google.com/github/Dhelfino/project/blob/main/TugasDataMining-Kmeans_225610042.ipynb\" target=\"_parent\"><img src=\"https://colab.research.google.com/assets/colab-badge.svg\" alt=\"Open In Colab\"/></a>"
      ]
    },
    {
      "cell_type": "markdown",
      "source": [
        "# **Laporan Analisis Klastering COVID-19 di Indonesia Menggunakan K-Means**"
      ],
      "metadata": {
        "id": "OKmqYeG4bSej"
      }
    },
    {
      "cell_type": "markdown",
      "source": [
        "1. Penjelasan Analisis dan Tools yang Digunakan\n",
        "Analisis yang Dilakukan\n",
        "Analisis ini bertujuan untuk mengelompokkan provinsi-provinsi di Indonesia berdasarkan karakteristik kasus COVID-19 menggunakan algoritma K-Means Clustering. Metode ini akan membantu memahami pola penyebaran COVID-19 di berbagai wilayah dengan mengelompokkan provinsi berdasarkan:\n",
        "\n",
        "Jumlah kasus baru (New Cases).\n",
        "\n",
        "Jumlah kematian baru (New Deaths).\n",
        "\n",
        "Jumlah kesembuhan baru (New Recovered).\n",
        "\n",
        "Tools/Bahasa Pemrograman yang Digunakan\n",
        "Google Colab: Platform komputasi cloud untuk menjalankan kode Python.\n",
        "\n",
        "Python: Bahasa pemrograman utama.\n",
        "\n",
        "Libraries:\n",
        "\n",
        "pandas untuk manipulasi data.\n",
        "\n",
        "numpy untuk komputasi numerik.\n",
        "\n",
        "sklearn untuk machine learning (K-Means).\n",
        "\n",
        "matplotlib dan seaborn untuk visualisasi.\n",
        "\n",
        "scipy untuk analisis statistik.\n",
        "\n"
      ],
      "metadata": {
        "id": "ntbzyDuubqP1"
      }
    },
    {
      "cell_type": "markdown",
      "source": [
        "2. Koleksi Data\n",
        "Sumber Data\n",
        "Data diambil dari file CSV (Data_COVID19_Indonesia.csv) yang berisi rekaman kasus COVID-19 di Indonesia per provinsi.\n",
        "\n",
        "Cara Mengkoleksi Data\n",
        "Data diunduh dalam bentuk CSV dan diunggah ke Google Colab untuk diproses.\n",
        "\n",
        "Bentuk dan Jumlah Data\n",
        "Bentuk: Tabel dengan kolom seperti Date, Location, New Cases, New Deaths, New Recovered, dll.\n",
        "\n",
        "Jumlah Data:\n",
        "\n",
        "Total baris: Data harian dari berbagai provinsi.\n",
        "\n",
        "Kolom yang relevan: Location, New Cases, New Deaths, New Recovered."
      ],
      "metadata": {
        "id": "20c-MfK6cB1s"
      }
    },
    {
      "cell_type": "markdown",
      "source": [
        "3. Preprocessing Data\n",
        "Langkah-Langkah Preprocessing"
      ],
      "metadata": {
        "id": "cVQm5ofbcPqF"
      }
    },
    {
      "cell_type": "code",
      "source": [
        "#Import Library\n",
        "import pandas as pd\n",
        "import numpy as np\n",
        "from sklearn.cluster import KMeans\n",
        "import matplotlib.pyplot as plt\n",
        "import seaborn as sns"
      ],
      "metadata": {
        "id": "BabKsJUzcacP"
      },
      "execution_count": 1,
      "outputs": []
    },
    {
      "cell_type": "code",
      "source": [
        "#Load Data\n",
        "from google.colab import files\n",
        "uploaded = files.upload()\n",
        "data = pd.read_csv('Data_COVID19_Indonesia.csv')"
      ],
      "metadata": {
        "colab": {
          "base_uri": "https://localhost:8080/",
          "height": 73
        },
        "id": "nUBt17xFdUU5",
        "outputId": "584b06f8-62d1-43af-df77-5de9fe8d645f"
      },
      "execution_count": 4,
      "outputs": [
        {
          "output_type": "display_data",
          "data": {
            "text/plain": [
              "<IPython.core.display.HTML object>"
            ],
            "text/html": [
              "\n",
              "     <input type=\"file\" id=\"files-3da84647-bade-4b7d-a362-96ca55cb86b4\" name=\"files[]\" multiple disabled\n",
              "        style=\"border:none\" />\n",
              "     <output id=\"result-3da84647-bade-4b7d-a362-96ca55cb86b4\">\n",
              "      Upload widget is only available when the cell has been executed in the\n",
              "      current browser session. Please rerun this cell to enable.\n",
              "      </output>\n",
              "      <script>// Copyright 2017 Google LLC\n",
              "//\n",
              "// Licensed under the Apache License, Version 2.0 (the \"License\");\n",
              "// you may not use this file except in compliance with the License.\n",
              "// You may obtain a copy of the License at\n",
              "//\n",
              "//      http://www.apache.org/licenses/LICENSE-2.0\n",
              "//\n",
              "// Unless required by applicable law or agreed to in writing, software\n",
              "// distributed under the License is distributed on an \"AS IS\" BASIS,\n",
              "// WITHOUT WARRANTIES OR CONDITIONS OF ANY KIND, either express or implied.\n",
              "// See the License for the specific language governing permissions and\n",
              "// limitations under the License.\n",
              "\n",
              "/**\n",
              " * @fileoverview Helpers for google.colab Python module.\n",
              " */\n",
              "(function(scope) {\n",
              "function span(text, styleAttributes = {}) {\n",
              "  const element = document.createElement('span');\n",
              "  element.textContent = text;\n",
              "  for (const key of Object.keys(styleAttributes)) {\n",
              "    element.style[key] = styleAttributes[key];\n",
              "  }\n",
              "  return element;\n",
              "}\n",
              "\n",
              "// Max number of bytes which will be uploaded at a time.\n",
              "const MAX_PAYLOAD_SIZE = 100 * 1024;\n",
              "\n",
              "function _uploadFiles(inputId, outputId) {\n",
              "  const steps = uploadFilesStep(inputId, outputId);\n",
              "  const outputElement = document.getElementById(outputId);\n",
              "  // Cache steps on the outputElement to make it available for the next call\n",
              "  // to uploadFilesContinue from Python.\n",
              "  outputElement.steps = steps;\n",
              "\n",
              "  return _uploadFilesContinue(outputId);\n",
              "}\n",
              "\n",
              "// This is roughly an async generator (not supported in the browser yet),\n",
              "// where there are multiple asynchronous steps and the Python side is going\n",
              "// to poll for completion of each step.\n",
              "// This uses a Promise to block the python side on completion of each step,\n",
              "// then passes the result of the previous step as the input to the next step.\n",
              "function _uploadFilesContinue(outputId) {\n",
              "  const outputElement = document.getElementById(outputId);\n",
              "  const steps = outputElement.steps;\n",
              "\n",
              "  const next = steps.next(outputElement.lastPromiseValue);\n",
              "  return Promise.resolve(next.value.promise).then((value) => {\n",
              "    // Cache the last promise value to make it available to the next\n",
              "    // step of the generator.\n",
              "    outputElement.lastPromiseValue = value;\n",
              "    return next.value.response;\n",
              "  });\n",
              "}\n",
              "\n",
              "/**\n",
              " * Generator function which is called between each async step of the upload\n",
              " * process.\n",
              " * @param {string} inputId Element ID of the input file picker element.\n",
              " * @param {string} outputId Element ID of the output display.\n",
              " * @return {!Iterable<!Object>} Iterable of next steps.\n",
              " */\n",
              "function* uploadFilesStep(inputId, outputId) {\n",
              "  const inputElement = document.getElementById(inputId);\n",
              "  inputElement.disabled = false;\n",
              "\n",
              "  const outputElement = document.getElementById(outputId);\n",
              "  outputElement.innerHTML = '';\n",
              "\n",
              "  const pickedPromise = new Promise((resolve) => {\n",
              "    inputElement.addEventListener('change', (e) => {\n",
              "      resolve(e.target.files);\n",
              "    });\n",
              "  });\n",
              "\n",
              "  const cancel = document.createElement('button');\n",
              "  inputElement.parentElement.appendChild(cancel);\n",
              "  cancel.textContent = 'Cancel upload';\n",
              "  const cancelPromise = new Promise((resolve) => {\n",
              "    cancel.onclick = () => {\n",
              "      resolve(null);\n",
              "    };\n",
              "  });\n",
              "\n",
              "  // Wait for the user to pick the files.\n",
              "  const files = yield {\n",
              "    promise: Promise.race([pickedPromise, cancelPromise]),\n",
              "    response: {\n",
              "      action: 'starting',\n",
              "    }\n",
              "  };\n",
              "\n",
              "  cancel.remove();\n",
              "\n",
              "  // Disable the input element since further picks are not allowed.\n",
              "  inputElement.disabled = true;\n",
              "\n",
              "  if (!files) {\n",
              "    return {\n",
              "      response: {\n",
              "        action: 'complete',\n",
              "      }\n",
              "    };\n",
              "  }\n",
              "\n",
              "  for (const file of files) {\n",
              "    const li = document.createElement('li');\n",
              "    li.append(span(file.name, {fontWeight: 'bold'}));\n",
              "    li.append(span(\n",
              "        `(${file.type || 'n/a'}) - ${file.size} bytes, ` +\n",
              "        `last modified: ${\n",
              "            file.lastModifiedDate ? file.lastModifiedDate.toLocaleDateString() :\n",
              "                                    'n/a'} - `));\n",
              "    const percent = span('0% done');\n",
              "    li.appendChild(percent);\n",
              "\n",
              "    outputElement.appendChild(li);\n",
              "\n",
              "    const fileDataPromise = new Promise((resolve) => {\n",
              "      const reader = new FileReader();\n",
              "      reader.onload = (e) => {\n",
              "        resolve(e.target.result);\n",
              "      };\n",
              "      reader.readAsArrayBuffer(file);\n",
              "    });\n",
              "    // Wait for the data to be ready.\n",
              "    let fileData = yield {\n",
              "      promise: fileDataPromise,\n",
              "      response: {\n",
              "        action: 'continue',\n",
              "      }\n",
              "    };\n",
              "\n",
              "    // Use a chunked sending to avoid message size limits. See b/62115660.\n",
              "    let position = 0;\n",
              "    do {\n",
              "      const length = Math.min(fileData.byteLength - position, MAX_PAYLOAD_SIZE);\n",
              "      const chunk = new Uint8Array(fileData, position, length);\n",
              "      position += length;\n",
              "\n",
              "      const base64 = btoa(String.fromCharCode.apply(null, chunk));\n",
              "      yield {\n",
              "        response: {\n",
              "          action: 'append',\n",
              "          file: file.name,\n",
              "          data: base64,\n",
              "        },\n",
              "      };\n",
              "\n",
              "      let percentDone = fileData.byteLength === 0 ?\n",
              "          100 :\n",
              "          Math.round((position / fileData.byteLength) * 100);\n",
              "      percent.textContent = `${percentDone}% done`;\n",
              "\n",
              "    } while (position < fileData.byteLength);\n",
              "  }\n",
              "\n",
              "  // All done.\n",
              "  yield {\n",
              "    response: {\n",
              "      action: 'complete',\n",
              "    }\n",
              "  };\n",
              "}\n",
              "\n",
              "scope.google = scope.google || {};\n",
              "scope.google.colab = scope.google.colab || {};\n",
              "scope.google.colab._files = {\n",
              "  _uploadFiles,\n",
              "  _uploadFilesContinue,\n",
              "};\n",
              "})(self);\n",
              "</script> "
            ]
          },
          "metadata": {}
        },
        {
          "output_type": "stream",
          "name": "stdout",
          "text": [
            "Saving Data_COVID19_Indonesia.csv to Data_COVID19_Indonesia (1).csv\n"
          ]
        }
      ]
    },
    {
      "cell_type": "code",
      "source": [
        "#Cek Struktur Data\n",
        "print(data.head())\n",
        "print(data.info())"
      ],
      "metadata": {
        "colab": {
          "base_uri": "https://localhost:8080/"
        },
        "id": "rGA3Czozc7Lq",
        "outputId": "aea8e8ed-33ae-4a2d-fd7e-ce4c6a210ac2"
      },
      "execution_count": 5,
      "outputs": [
        {
          "output_type": "stream",
          "name": "stdout",
          "text": [
            "       Date Location ISO Code     Location  New Cases  New Deaths  \\\n",
            "0  3/1/2020             ID-JK  DKI Jakarta          2           0   \n",
            "1  3/2/2020             ID-JK  DKI Jakarta          2           0   \n",
            "2  3/2/2020               IDN    Indonesia          2           0   \n",
            "3  3/2/2020             ID-RI         Riau          1           0   \n",
            "4  3/3/2020             ID-JK  DKI Jakarta          2           0   \n",
            "\n",
            "   New Recovered  New Active Cases  Total Cases  Total Deaths  \\\n",
            "0              0                 2           39            20   \n",
            "1              0                 2           41            20   \n",
            "2              0                 2            2             0   \n",
            "3              0                 1            2             0   \n",
            "4              0                 2           43            20   \n",
            "\n",
            "   Total Recovered  ...  Latitude New Cases per Million  \\\n",
            "0               41  ... -6.204699                  0.18   \n",
            "1               41  ... -6.204699                  0.18   \n",
            "2                0  ... -0.789275                  0.01   \n",
            "3                3  ...  0.511648                  0.16   \n",
            "4               41  ... -6.204699                  0.18   \n",
            "\n",
            "   Total Cases per Million New Deaths per Million Total Deaths per Million  \\\n",
            "0                     3.60                    0.0                     1.84   \n",
            "1                     3.78                    0.0                     1.84   \n",
            "2                     0.01                    0.0                     0.00   \n",
            "3                     0.33                    0.0                     0.00   \n",
            "4                     3.96                    0.0                     1.84   \n",
            "\n",
            "  Total Deaths per 100rb Case Fatality Rate Case Recovered Rate  \\\n",
            "0                   0.18             51.28%             105.13%   \n",
            "1                   0.18             48.78%             100.00%   \n",
            "2                   0.00              0.00%               0.00%   \n",
            "3                   0.00              0.00%             150.00%   \n",
            "4                   0.18             46.51%              95.35%   \n",
            "\n",
            "  Growth Factor of New Cases  Growth Factor of New Deaths  \n",
            "0                        NaN                          NaN  \n",
            "1                        1.0                          1.0  \n",
            "2                        NaN                          NaN  \n",
            "3                        NaN                          NaN  \n",
            "4                        1.0                          1.0  \n",
            "\n",
            "[5 rows x 38 columns]\n",
            "<class 'pandas.core.frame.DataFrame'>\n",
            "RangeIndex: 21759 entries, 0 to 21758\n",
            "Data columns (total 38 columns):\n",
            " #   Column                       Non-Null Count  Dtype  \n",
            "---  ------                       --------------  -----  \n",
            " 0   Date                         21759 non-null  object \n",
            " 1   Location ISO Code            21759 non-null  object \n",
            " 2   Location                     21759 non-null  object \n",
            " 3   New Cases                    21759 non-null  int64  \n",
            " 4   New Deaths                   21759 non-null  int64  \n",
            " 5   New Recovered                21759 non-null  int64  \n",
            " 6   New Active Cases             21759 non-null  int64  \n",
            " 7   Total Cases                  21759 non-null  int64  \n",
            " 8   Total Deaths                 21759 non-null  int64  \n",
            " 9   Total Recovered              21759 non-null  int64  \n",
            " 10  Total Active Cases           21759 non-null  int64  \n",
            " 11  Location Level               21759 non-null  object \n",
            " 12  City or Regency              0 non-null      float64\n",
            " 13  Province                     21117 non-null  object \n",
            " 14  Country                      21759 non-null  object \n",
            " 15  Continent                    21759 non-null  object \n",
            " 16  Island                       21117 non-null  object \n",
            " 17  Time Zone                    21117 non-null  object \n",
            " 18  Special Status               3123 non-null   object \n",
            " 19  Total Regencies              21759 non-null  int64  \n",
            " 20  Total Cities                 21145 non-null  float64\n",
            " 21  Total Districts              21759 non-null  int64  \n",
            " 22  Total Urban Villages         21142 non-null  float64\n",
            " 23  Total Rural Villages         21117 non-null  float64\n",
            " 24  Area (km2)                   21759 non-null  int64  \n",
            " 25  Population                   21759 non-null  int64  \n",
            " 26  Population Density           21759 non-null  float64\n",
            " 27  Longitude                    21759 non-null  float64\n",
            " 28  Latitude                     21759 non-null  float64\n",
            " 29  New Cases per Million        21759 non-null  float64\n",
            " 30  Total Cases per Million      21759 non-null  float64\n",
            " 31  New Deaths per Million       21759 non-null  float64\n",
            " 32  Total Deaths per Million     21759 non-null  float64\n",
            " 33  Total Deaths per 100rb       21759 non-null  float64\n",
            " 34  Case Fatality Rate           21759 non-null  object \n",
            " 35  Case Recovered Rate          21759 non-null  object \n",
            " 36  Growth Factor of New Cases   20572 non-null  float64\n",
            " 37  Growth Factor of New Deaths  19292 non-null  float64\n",
            "dtypes: float64(14), int64(12), object(12)\n",
            "memory usage: 6.3+ MB\n",
            "None\n"
          ]
        }
      ]
    },
    {
      "cell_type": "code",
      "source": [
        "#Memilih Kolom Relevan\n",
        "df = data[['Location', 'New Cases', 'New Deaths', 'New Recovered']]"
      ],
      "metadata": {
        "id": "mBAbOi3mdwJB"
      },
      "execution_count": 6,
      "outputs": []
    },
    {
      "cell_type": "code",
      "source": [
        "#Handling Missing Value\n",
        "df.dropna(inplace=True)"
      ],
      "metadata": {
        "colab": {
          "base_uri": "https://localhost:8080/"
        },
        "id": "ruuA0yqod_X6",
        "outputId": "e0860f2d-337c-4b3f-f278-606cbe352af5"
      },
      "execution_count": 7,
      "outputs": [
        {
          "output_type": "stream",
          "name": "stderr",
          "text": [
            "<ipython-input-7-3231811917>:2: SettingWithCopyWarning: \n",
            "A value is trying to be set on a copy of a slice from a DataFrame\n",
            "\n",
            "See the caveats in the documentation: https://pandas.pydata.org/pandas-docs/stable/user_guide/indexing.html#returning-a-view-versus-a-copy\n",
            "  df.dropna(inplace=True)\n"
          ]
        }
      ]
    },
    {
      "cell_type": "code",
      "source": [
        "#Agresi Data Per Provinsi\n",
        "df_province = df.groupby('Location').sum().reset_index()"
      ],
      "metadata": {
        "id": "Cgl7Yfh6eIvv"
      },
      "execution_count": 8,
      "outputs": []
    },
    {
      "cell_type": "code",
      "source": [
        "#Normalisasi Data\n",
        "from sklearn.preprocessing import StandardScaler\n",
        "scaler = StandardScaler()\n",
        "df_scaled = scaler.fit_transform(df_province[['New Cases', 'New Deaths', 'New Recovered']])"
      ],
      "metadata": {
        "id": "kQI-l4CNeOo5"
      },
      "execution_count": 9,
      "outputs": []
    },
    {
      "cell_type": "markdown",
      "source": [
        "4. Analisis Data (K-Means Clustering)\n",
        "Langkah-Langkah Analisis"
      ],
      "metadata": {
        "id": "JzFv73pweb3y"
      }
    },
    {
      "cell_type": "code",
      "source": [
        "#Menentukan Jumlah Klaster(Elbow Method)\n",
        "wcss = []\n",
        "for i in range(1, 11):\n",
        "    kmeans = KMeans(n_clusters=i, init='k-means++', random_state=42)\n",
        "    kmeans.fit(df_scaled)\n",
        "    wcss.append(kmeans.inertia_)\n",
        "\n",
        "plt.plot(range(1, 11), wcss)\n",
        "plt.title('Elbow Method')\n",
        "plt.xlabel('Number of Clusters')\n",
        "plt.ylabel('WCSS')\n",
        "plt.show()"
      ],
      "metadata": {
        "colab": {
          "base_uri": "https://localhost:8080/",
          "height": 472
        },
        "id": "6ryg8nJPefl0",
        "outputId": "8163c5a4-40e6-4758-f635-8f0a5bb15e3c"
      },
      "execution_count": 10,
      "outputs": [
        {
          "output_type": "display_data",
          "data": {
            "text/plain": [
              "<Figure size 640x480 with 1 Axes>"
            ],
            "image/png": "[encoded data removed]"
          },
          "metadata": {}
        }
      ]
    },
    {
      "cell_type": "markdown",
      "source": [
        "Hasil: Pilih K=3 berdasarkan \"elbow point\"."
      ],
      "metadata": {
        "id": "7X4_VBQyevnu"
      }
    },
    {
      "cell_type": "code",
      "source": [
        "#Melakukan Klastering dengan K=3\n",
        "kmeans = KMeans(n_clusters=3, init='k-means++', random_state=42)\n",
        "clusters = kmeans.fit_predict(df_scaled)\n",
        "df_province['Cluster'] = clusters"
      ],
      "metadata": {
        "id": "qFd9mPrVeuGW"
      },
      "execution_count": 11,
      "outputs": []
    },
    {
      "cell_type": "markdown",
      "source": [
        "Analisis Hasil Klaster:\n",
        "\n",
        "Klaster 0: Provinsi dengan kasus rendah.\n",
        "\n",
        "Klaster 1: Provinsi dengan kasus sedang.\n",
        "\n",
        "Klaster 2: Provinsi dengan kasus tinggi."
      ],
      "metadata": {
        "id": "yrYPXCj7fbhP"
      }
    },
    {
      "cell_type": "code",
      "source": [
        "#Perhitungan Akurasi(Silhoutte Score)\n",
        "from sklearn.metrics import silhouette_score\n",
        "score = silhouette_score(df_scaled, clusters)\n",
        "print(f\"Silhouette Score: {score}\")"
      ],
      "metadata": {
        "colab": {
          "base_uri": "https://localhost:8080/"
        },
        "id": "cGm31X2qfrP_",
        "outputId": "541ebd3f-fb61-4c34-b79b-8de35f49f184"
      },
      "execution_count": 12,
      "outputs": [
        {
          "output_type": "stream",
          "name": "stdout",
          "text": [
            "Silhouette Score: 0.8408263423948891\n"
          ]
        }
      ]
    },
    {
      "cell_type": "markdown",
      "source": [
        "Hasil: Skor mendekati 1 berarti klastering baik."
      ],
      "metadata": {
        "id": "QGy04QrsgCgB"
      }
    },
    {
      "cell_type": "markdown",
      "source": [
        "**5. Visualisasi Data**"
      ],
      "metadata": {
        "id": "XzDEqjB2gHCp"
      }
    },
    {
      "cell_type": "code",
      "source": [
        "#Visualisasi Klaster\n",
        "plt.figure(figsize=(10, 6))\n",
        "sns.scatterplot(\n",
        "    x='New Cases',\n",
        "    y='New Deaths',\n",
        "    hue='Cluster',\n",
        "    data=df_province,\n",
        "    palette='viridis'\n",
        ")\n",
        "plt.title('Klaster Provinsi Berdasarkan Kasus COVID-19')\n",
        "plt.show()"
      ],
      "metadata": {
        "colab": {
          "base_uri": "https://localhost:8080/",
          "height": 564
        },
        "id": "eX23p5jLgM2H",
        "outputId": "46c02e62-1e47-43a8-cafb-a504dcf57eea"
      },
      "execution_count": 13,
      "outputs": [
        {
          "output_type": "display_data",
          "data": {
            "text/plain": [
              "<Figure size 1000x600 with 1 Axes>"
            ],
            "image/png": "[encoded data removed]"
          },
          "metadata": {}
        }
      ]
    },
    {
      "cell_type": "code",
      "source": [
        "#Bar Plot Kasus Per Klaster\n",
        "plt.figure(figsize=(10, 6))\n",
        "sns.barplot(\n",
        "    x='Cluster',\n",
        "    y='New Cases',\n",
        "    data=df_province,\n",
        "    estimator=sum,\n",
        "    errorbar=None\n",
        ")\n",
        "plt.title('Total Kasus COVID-19 per Klaster')\n",
        "plt.show()"
      ],
      "metadata": {
        "colab": {
          "base_uri": "https://localhost:8080/",
          "height": 564
        },
        "id": "veM0dEYPgekS",
        "outputId": "18f44876-6219-412b-8256-2a77f581f554"
      },
      "execution_count": 15,
      "outputs": [
        {
          "output_type": "display_data",
          "data": {
            "text/plain": [
              "<Figure size 1000x600 with 1 Axes>"
            ],
            "image/png": "[encoded data removed]"
          },
          "metadata": {}
        }
      ]
    },
    {
      "cell_type": "markdown",
      "source": [
        "Hasil Visualisasi\n",
        "Grafik Scatter: Memperlihatkan pengelompokan provinsi.\n",
        "\n",
        "Bar Plot: Menunjukkan total kasus per klaster."
      ],
      "metadata": {
        "id": "m8xSPLdnhBM7"
      }
    },
    {
      "cell_type": "markdown",
      "source": [
        "Kesimpulan\n",
        "\n",
        "Klaster 0: Provinsi dengan kasus rendah (contoh: Maluku, Papua Barat).\n",
        "\n",
        "Klaster 1: Provinsi dengan kasus sedang (contoh: Bali, Jawa Tengah).\n",
        "\n",
        "Klaster 2: Provinsi dengan kasus tinggi (contoh: DKI Jakarta, Jawa Barat).\n",
        "\n",
        "Analisis ini membantu pemerintah dalam mengambil kebijakan penanganan COVID-19 berdasarkan tingkat keparahan di setiap provinsi."
      ],
      "metadata": {
        "id": "HtPTcNTrhMaM"
      }
    }
  ]
}